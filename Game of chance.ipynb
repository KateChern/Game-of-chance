{
 "cells": [
  {
   "cell_type": "markdown",
   "metadata": {},
   "source": [
    "## Flip the coin\n",
    "\n"
   ]
  },
  {
   "cell_type": "code",
   "execution_count": 5,
   "metadata": {},
   "outputs": [],
   "source": [
    "import random\n",
    "\n",
    "total = 100\n",
    "\n",
    "def coin_flip(guess, bet):\n",
    "    #Makes sure your bet was above 0\n",
    "    if bet <= 0:\n",
    "        print(\"------------------\")\n",
    "        print(\"Your bet should be above 0.\")\n",
    "        return 0\n",
    "        print(\"------------------\")\n",
    "\n",
    "    #Starts the game and flips the coin\n",
    "    print(\"------------------\")\n",
    "    print(\"Let's flip a coin! You guessed \" + guess)\n",
    "    result = random.randint(1,2)\n",
    "\n",
    "    # Prints the result of the coin flip. A 1 is heads, a 2 is tails\n",
    "    if result == 1:\n",
    "        print(\"Heads!\")\n",
    "    elif result == 2:\n",
    "        print(\"Tails\")\n",
    "\n",
    "    # Determines if you won or lost and returns either bet or -bet\n",
    "    if (guess == \"Heads\" and result == 1) or (guess == \"Tails\" and result == 2):\n",
    "        print(\"You won \" + str(bet)+\" dollars!\")\n",
    "        print(\"------------------\")\n",
    "        return bet\n",
    "    else:\n",
    "        print(\"You lost \" + str(bet)+\" dollars!\")\n",
    "        print(\"------------------\")\n",
    "        return -bet\n",
    "\n"
   ]
  },
  {
   "cell_type": "markdown",
   "metadata": {},
   "source": [
    "## Higher_card"
   ]
  },
  {
   "cell_type": "code",
   "execution_count": 6,
   "metadata": {},
   "outputs": [],
   "source": [
    "def higher_card(bet):\n",
    "    #Makes sure your bet was above 0\n",
    "    if bet <= 0:\n",
    "        print(\"------------------\")\n",
    "        print(\"Your bet should be above 0.\")\n",
    "        print(\"------------------\")\n",
    "        return 0\n",
    "\n",
    "    # Draws two cards between 1 and 10 and prints the result\n",
    "    print(\"------------------\")\n",
    "    print(\"Let's play a game of cards!\")\n",
    "    mine = random.randint(1, 10)\n",
    "    theirs = random.randint(1, 10)\n",
    "    print(\"Your card was \" + str(mine))\n",
    "    print(\"Their card was \" + str(theirs))\n",
    "\n",
    "    #Determines who won and returns either bet, -bet or 0 (in the case of a tie.)\n",
    "    if mine > theirs:\n",
    "        print(\"You won \" + str(bet)+\" dollars!\")\n",
    "        print(\"------------------\")\n",
    "        return bet\n",
    "    elif mine < theirs:\n",
    "        print(\"You lost \" + str(bet)+\" dollars!\")\n",
    "        print(\"------------------\")\n",
    "        return -bet\n",
    "    else:\n",
    "        print(\"It was a tie!\")\n",
    "        print(\"------------------\")\n",
    "        return 0\n",
    "\n"
   ]
  },
  {
   "cell_type": "markdown",
   "metadata": {},
   "source": [
    "\n",
    "## Cho_han\n"
   ]
  },
  {
   "cell_type": "code",
   "execution_count": 7,
   "metadata": {},
   "outputs": [],
   "source": [
    "def cho_han(guess, bet):\n",
    "    #Makes sure your bet was above 0\n",
    "    if bet <= 0:\n",
    "        print(\"------------------\")\n",
    "        print(\"Your bet should be above 0.\")\n",
    "        print(\"------------------\")\n",
    "        return 0\n",
    "\n",
    "    print(\"------------------\")\n",
    "    print(\"Let's play Cho-Han!\")\n",
    "    dice1 = random.randint(1, 6)\n",
    "    dice2 = random.randint(1, 6)\n",
    "    total = dice1 + dice2\n",
    "    print(\"The sum of the two dice is \" + str(total))\n",
    "\n",
    "    if guess == \"Even\" and total % 2 == 0:\n",
    "        print(\"You won \" + str(bet)+\" dollars!\")\n",
    "        print(\"------------------\")\n",
    "        return bet\n",
    "    elif guess == \"Odd\" and total % 2 == 1:\n",
    "        print(\"You won \" + str(bet)+\" dollars!\")\n",
    "        print(\"------------------\")\n",
    "        return bet\n",
    "    else:\n",
    "        print(\"You lost \" + str(bet)+\" dollars!\")\n",
    "        print(\"------------------\")\n",
    "        return -bet\n",
    "\n",
    "\n"
   ]
  },
  {
   "cell_type": "markdown",
   "metadata": {},
   "source": [
    "## Roulette\n",
    "\n"
   ]
  },
  {
   "cell_type": "code",
   "execution_count": 40,
   "metadata": {},
   "outputs": [],
   "source": [
    "def roulette(guess, bet):\n",
    "    #Makes sure your bet was above 0\n",
    "    if bet <= 0:\n",
    "        print(\"------------------\")\n",
    "        print(\"Your bet should be above 0.\")\n",
    "        print(\"------------------\")\n",
    "        return 0\n",
    "\n",
    "    #A standard roulette wheel has the numbers 0 through 36 as well as 00. We'll use 37 to represent 00.\n",
    "    print(\"------------------\")\n",
    "    print(\"Let's play roulette!\")\n",
    "    result = random.randint(0, 37)\n",
    "    if result == 37:\n",
    "        print(\"The wheel landed on 00\")\n",
    "    else:\n",
    "        print(\"The wheel landed on \" + str(result))\n",
    "\n",
    "    #Checks to see if we guessed Even and the result was even. If the result was 0, the player shouldn't win\n",
    "    if guess == \"Even\" and result % 2 == 0 and result != 0:\n",
    "        print(str(result) + \" is an even number.\")\n",
    "        print(\"You won \" + str(bet)+\" dollars!\")\n",
    "        print(\"------------------\")\n",
    "        return bet\n",
    "\n",
    "    #Checks to see if we guessed Odd and the result was odd. If the result was 37, the player shouldn't win, since that's what we are using to represent 00.\n",
    "    elif guess == \"Odd\" and result % 2 == 1 and result != 37:\n",
    "        print(str(result) + \" is an odd number.\")\n",
    "        print(\"You won \" + str(bet)+\" dollars!\")\n",
    "        print(\"------------------\")\n",
    "        return bet\n",
    "\n",
    "\n",
    "    # If none of the above are true, you lost.\n",
    "    else:\n",
    "        print(\"You lost \" + str(bet)+\" dollars!\")\n",
    "        print(\"------------------\")\n",
    "        return -bet\n"
   ]
  },
  {
   "cell_type": "markdown",
   "metadata": {},
   "source": [
    "# Make your bets and let's see what you won!"
   ]
  },
  {
   "cell_type": "code",
   "execution_count": 43,
   "metadata": {},
   "outputs": [
    {
     "name": "stdout",
     "output_type": "stream",
     "text": [
      "------------------\n",
      "Let's flip a coin! You guessed Heads\n",
      "Heads!\n",
      "You won 10 dollars!\n",
      "------------------\n",
      "------------------\n",
      "Let's play a game of cards!\n",
      "Your card was 10\n",
      "Their card was 3\n",
      "You won 5 dollars!\n",
      "------------------\n",
      "------------------\n",
      "Let's play Cho-Han!\n",
      "The sum of the two dice is 6\n",
      "You won 2 dollars!\n",
      "------------------\n",
      "------------------\n",
      "Let's play roulette!\n",
      "The wheel landed on 11\n",
      "You lost 10 dollars!\n",
      "------------------\n",
      "------------------\n",
      "Your bet should be above 0.\n",
      "------------------\n",
      "Your total amount of money is -15\n"
     ]
    }
   ],
   "source": [
    "total += coin_flip(\"Heads\", 10)\n",
    "total += higher_card(5)\n",
    "total += cho_han(\"Even\", 2)\n",
    "total += roulette(\"Even\", 10)\n",
    "total += roulette(\"Odd\", total)\n",
    "print(\"Your total amount of money is \" + str(total))"
   ]
  }
 ],
 "metadata": {
  "kernelspec": {
   "display_name": "Python 3",
   "language": "python",
   "name": "python3"
  },
  "language_info": {
   "codemirror_mode": {
    "name": "ipython",
    "version": 3
   },
   "file_extension": ".py",
   "mimetype": "text/x-python",
   "name": "python",
   "nbconvert_exporter": "python",
   "pygments_lexer": "ipython3",
   "version": "3.6.9"
  }
 },
 "nbformat": 4,
 "nbformat_minor": 2
}
